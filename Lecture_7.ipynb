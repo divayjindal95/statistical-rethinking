{
 "cells": [
  {
   "cell_type": "code",
   "execution_count": 1,
   "metadata": {},
   "outputs": [],
   "source": [
    "import numpy as np\n",
    "import pandas as pd\n",
    "import scipy as sc"
   ]
  },
  {
   "cell_type": "code",
   "execution_count": 2,
   "metadata": {},
   "outputs": [],
   "source": [
    "import warnings\n",
    "warnings.filterwarnings(action='ignore')"
   ]
  },
  {
   "cell_type": "code",
   "execution_count": 3,
   "metadata": {},
   "outputs": [],
   "source": [
    "import pymc3 as pm"
   ]
  },
  {
   "cell_type": "code",
   "execution_count": 4,
   "metadata": {},
   "outputs": [],
   "source": [
    "import statsmodels.formula.api as smf \n",
    "import statsmodels.api as sm"
   ]
  },
  {
   "cell_type": "code",
   "execution_count": 5,
   "metadata": {},
   "outputs": [],
   "source": [
    "import matplotlib.pyplot as plt\n",
    "import seaborn as sns\n",
    "import arviz as az\n",
    "\n",
    "sns.set_palette(\"Dark2\")\n",
    "sns.set_style(\"darkgrid\")\n",
    "az.style.use('arviz-darkgrid')"
   ]
  },
  {
   "cell_type": "code",
   "execution_count": 6,
   "metadata": {},
   "outputs": [],
   "source": [
    "from scipy.special import logsumexp"
   ]
  },
  {
   "cell_type": "code",
   "execution_count": 16,
   "metadata": {},
   "outputs": [
    {
     "data": {
      "text/html": [
       "<div>\n",
       "<style scoped>\n",
       "    .dataframe tbody tr th:only-of-type {\n",
       "        vertical-align: middle;\n",
       "    }\n",
       "\n",
       "    .dataframe tbody tr th {\n",
       "        vertical-align: top;\n",
       "    }\n",
       "\n",
       "    .dataframe thead th {\n",
       "        text-align: right;\n",
       "    }\n",
       "</style>\n",
       "<table border=\"1\" class=\"dataframe\">\n",
       "  <thead>\n",
       "    <tr style=\"text-align: right;\">\n",
       "      <th></th>\n",
       "      <th>species</th>\n",
       "      <th>brain</th>\n",
       "      <th>mass</th>\n",
       "    </tr>\n",
       "  </thead>\n",
       "  <tbody>\n",
       "    <tr>\n",
       "      <th>0</th>\n",
       "      <td>afarensis</td>\n",
       "      <td>438</td>\n",
       "      <td>37.0</td>\n",
       "    </tr>\n",
       "    <tr>\n",
       "      <th>1</th>\n",
       "      <td>africanus</td>\n",
       "      <td>452</td>\n",
       "      <td>35.5</td>\n",
       "    </tr>\n",
       "    <tr>\n",
       "      <th>2</th>\n",
       "      <td>habilis</td>\n",
       "      <td>612</td>\n",
       "      <td>34.5</td>\n",
       "    </tr>\n",
       "    <tr>\n",
       "      <th>3</th>\n",
       "      <td>boisei</td>\n",
       "      <td>521</td>\n",
       "      <td>41.5</td>\n",
       "    </tr>\n",
       "    <tr>\n",
       "      <th>4</th>\n",
       "      <td>rudolfensis</td>\n",
       "      <td>752</td>\n",
       "      <td>55.5</td>\n",
       "    </tr>\n",
       "    <tr>\n",
       "      <th>5</th>\n",
       "      <td>ergaster</td>\n",
       "      <td>871</td>\n",
       "      <td>61.0</td>\n",
       "    </tr>\n",
       "    <tr>\n",
       "      <th>6</th>\n",
       "      <td>sapiens</td>\n",
       "      <td>1350</td>\n",
       "      <td>53.5</td>\n",
       "    </tr>\n",
       "  </tbody>\n",
       "</table>\n",
       "</div>"
      ],
      "text/plain": [
       "       species  brain  mass\n",
       "0    afarensis    438  37.0\n",
       "1    africanus    452  35.5\n",
       "2      habilis    612  34.5\n",
       "3       boisei    521  41.5\n",
       "4  rudolfensis    752  55.5\n",
       "5     ergaster    871  61.0\n",
       "6      sapiens   1350  53.5"
      ]
     },
     "execution_count": 16,
     "metadata": {},
     "output_type": "execute_result"
    }
   ],
   "source": [
    "data = {'species' : ['afarensis', 'africanus', 'habilis', 'boisei', 'rudolfensis', 'ergaster', 'sapiens'],\n",
    "'brain' : [438, 452, 612, 521, 752, 871, 1350],\n",
    "'mass' : [37., 35.5, 34.5, 41.5, 55.5, 61.0, 53.5]}\n",
    "df = pd.DataFrame(data)\n",
    "df"
   ]
  },
  {
   "cell_type": "markdown",
   "metadata": {},
   "source": [
    "## $ R^2  = 1 - \\frac{\\sigma^2(residual)}{\\sigma^2(target)} $"
   ]
  },
  {
   "cell_type": "code",
   "execution_count": 17,
   "metadata": {},
   "outputs": [],
   "source": [
    "def r2(m):\n",
    "    return 1- m.resid.var()/df.brain.var()"
   ]
  },
  {
   "cell_type": "code",
   "execution_count": 18,
   "metadata": {},
   "outputs": [],
   "source": [
    "m_1 = smf.ols('brain ~ mass', data=df).fit()\n",
    "m_3 = smf.ols('brain ~ mass + I(mass**2) + I(mass**3)', data=df).fit()\n",
    "m_4 = smf.ols('brain ~ mass + I(mass**2) + I(mass**3) + I(mass**4)', data=df).fit()\n",
    "m_5 = smf.ols('brain ~ mass + I(mass**2) + I(mass**3) + I(mass**4) + I(mass**5)', data=df).fit()\n",
    "m_6 = smf.ols('brain ~ mass + I(mass**2) + I(mass**3) + I(mass**4) + I(mass**5) + I(mass**6)', data=df).fit()\n",
    "m_7 = smf.ols('brain ~ mass + I(mass**2) + I(mass**3) + I(mass**4) + I(mass**5) + I(mass**6) +I(mass**7)', data=df).fit()"
   ]
  },
  {
   "cell_type": "code",
   "execution_count": 19,
   "metadata": {},
   "outputs": [
    {
     "data": {
      "text/plain": [
       "0.9928281596319113"
      ]
     },
     "execution_count": 19,
     "metadata": {},
     "output_type": "execute_result"
    }
   ],
   "source": [
    "r2(m_7)"
   ]
  },
  {
   "cell_type": "code",
   "execution_count": 23,
   "metadata": {},
   "outputs": [
    {
     "data": {
      "text/plain": [
       "0.9928281596318554"
      ]
     },
     "execution_count": 23,
     "metadata": {},
     "output_type": "execute_result"
    }
   ],
   "source": [
    "m_7.rsquared"
   ]
  },
  {
   "cell_type": "code",
   "execution_count": 37,
   "metadata": {},
   "outputs": [
    {
     "data": {
      "text/plain": [
       "-32.538710156279535"
      ]
     },
     "execution_count": 37,
     "metadata": {},
     "output_type": "execute_result"
    }
   ],
   "source": [
    "m_7.llf"
   ]
  },
  {
   "cell_type": "markdown",
   "metadata": {},
   "source": [
    "```We see that just overfitting the model gives 1 as the r2 value```"
   ]
  },
  {
   "cell_type": "markdown",
   "metadata": {},
   "source": [
    "# Entropy : \n",
    "### $ -E[log(p_i)] $\n",
    "\n",
    "### $ -\\sum_{\\forall i}^n p_i*log(p_i)$ "
   ]
  },
  {
   "cell_type": "markdown",
   "metadata": {},
   "source": [
    "#### KL Divergence"
   ]
  },
  {
   "cell_type": "markdown",
   "metadata": {},
   "source": [
    "$ \\sum_i{p_i * (log(p_i)-log(q_i))} $"
   ]
  },
  {
   "cell_type": "markdown",
   "metadata": {},
   "source": [
    "To compare the models, we dont really need to know the true distribution. \n",
    "\n",
    "Only finding out $ log(q_i) $  will suffice. This is called deviance."
   ]
  },
  {
   "cell_type": "code",
   "execution_count": 14,
   "metadata": {
    "scrolled": false
   },
   "outputs": [
    {
     "data": {
      "image/png": "[encoded data removed]",
      "text/plain": [
       "<Figure size 500x500 with 1 Axes>"
      ]
     },
     "metadata": {},
     "output_type": "display_data"
    }
   ],
   "source": [
    "def kl_div(tr,mod):\n",
    "    return np.sum(tr*(np.log(tr)-np.log(mod)))\n",
    "\n",
    "plt.figure(figsize=(5,5))\n",
    "p = [0.3,0.7]\n",
    "k = np.arange(100)/100.0\n",
    "y = [kl_div(p,[i,1-i]) for i in k]\n",
    "sns.lineplot(k,y);"
   ]
  },
  {
   "cell_type": "code",
   "execution_count": 44,
   "metadata": {},
   "outputs": [],
   "source": [
    "a= sc.stats.norm(loc=0,scale=1)"
   ]
  },
  {
   "cell_type": "code",
   "execution_count": 45,
   "metadata": {},
   "outputs": [
    {
     "data": {
      "text/plain": [
       "array(1.41893853)"
      ]
     },
     "execution_count": 45,
     "metadata": {},
     "output_type": "execute_result"
    }
   ],
   "source": [
    "a.entropy()"
   ]
  },
  {
   "cell_type": "markdown",
   "metadata": {},
   "source": [
    "### Overfitting"
   ]
  },
  {
   "cell_type": "markdown",
   "metadata": {},
   "source": [
    "```\n",
    "Everybody overfits\n",
    "We create our model, fit it to traning set, find out the deviance, fit the model to testing and find out the deviance.\n",
    "Difference b/w two deviance is measure of overfitting.\n",
    "```"
   ]
  },
  {
   "cell_type": "code",
   "execution_count": 113,
   "metadata": {},
   "outputs": [],
   "source": [
    "def sim_train_test(N=20, k=3, rho=[0.15, -0.4], b_sigma=100):\n",
    "    \n",
    "    n_dim = 1 + len(rho)\n",
    "    if n_dim < k:\n",
    "        n_dim = k\n",
    "    Rho = np.diag(np.ones(n_dim))\n",
    "    Rho[0, 1:3:1] = rho\n",
    "    i_lower = np.tril_indices(n_dim, -1)\n",
    "    Rho[i_lower] = Rho.T[i_lower]\n",
    "    \n",
    "    x_train = sc.stats.multivariate_normal.rvs(cov=Rho, size=N)\n",
    "    x_test = sc.stats.multivariate_normal.rvs(cov=Rho, size=N)\n",
    "    \n",
    "    mm_train = np.ones((N,1))\n",
    "    \n",
    "    np.concatenate([mm_train, x_train[:, 1:k]], axis=1)"
   ]
  },
  {
   "cell_type": "code",
   "execution_count": 114,
   "metadata": {},
   "outputs": [
    {
     "name": "stdout",
     "output_type": "stream",
     "text": [
      "2\n"
     ]
    },
    {
     "name": "stderr",
     "output_type": "stream",
     "text": [
      "Auto-assigning NUTS sampler...\n",
      "Initializing NUTS using jitter+adapt_diag...\n",
      "Multiprocess sampling (4 chains in 4 jobs)\n",
      "NUTS: [vec_V]\n",
      "Sampling 4 chains, 0 divergences: 100%|██████████| 4000/4000 [00:01<00:00, 2158.97draws/s]\n",
      "Auto-assigning NUTS sampler...\n",
      "Initializing NUTS using jitter+adapt_diag...\n",
      "Multiprocess sampling (4 chains in 4 jobs)\n",
      "NUTS: [vec_V]\n",
      "Sampling 4 chains, 0 divergences: 100%|██████████| 4000/4000 [00:02<00:00, 1881.07draws/s]\n",
      "Auto-assigning NUTS sampler...\n",
      "Initializing NUTS using jitter+adapt_diag...\n",
      "Multiprocess sampling (4 chains in 4 jobs)\n",
      "NUTS: [vec_V]\n",
      "Sampling 4 chains, 0 divergences: 100%|██████████| 4000/4000 [00:02<00:00, 1999.81draws/s]\n",
      "Auto-assigning NUTS sampler...\n",
      "Initializing NUTS using jitter+adapt_diag...\n",
      "Multiprocess sampling (4 chains in 4 jobs)\n",
      "NUTS: [vec_V]\n",
      "Sampling 4 chains, 0 divergences: 100%|██████████| 4000/4000 [00:02<00:00, 1499.47draws/s]\n",
      "Auto-assigning NUTS sampler...\n",
      "Initializing NUTS using jitter+adapt_diag...\n",
      "Multiprocess sampling (4 chains in 4 jobs)\n",
      "NUTS: [vec_V]\n",
      "Sampling 4 chains, 0 divergences: 100%|██████████| 4000/4000 [00:01<00:00, 2042.19draws/s]\n",
      "Auto-assigning NUTS sampler...\n",
      "Initializing NUTS using jitter+adapt_diag...\n",
      "Multiprocess sampling (4 chains in 4 jobs)\n",
      "NUTS: [vec_V]\n",
      "Sampling 4 chains, 0 divergences: 100%|██████████| 4000/4000 [00:01<00:00, 2233.02draws/s]\n",
      "Auto-assigning NUTS sampler...\n",
      "Initializing NUTS using jitter+adapt_diag...\n",
      "Multiprocess sampling (4 chains in 4 jobs)\n",
      "NUTS: [vec_V]\n",
      "Sampling 4 chains, 0 divergences: 100%|██████████| 4000/4000 [00:02<00:00, 1965.21draws/s]\n",
      "Auto-assigning NUTS sampler...\n",
      "Initializing NUTS using jitter+adapt_diag...\n",
      "Multiprocess sampling (4 chains in 4 jobs)\n",
      "NUTS: [vec_V]\n",
      "Sampling 4 chains, 0 divergences: 100%|██████████| 4000/4000 [00:01<00:00, 2050.07draws/s]\n",
      "Auto-assigning NUTS sampler...\n",
      "Initializing NUTS using jitter+adapt_diag...\n",
      "Multiprocess sampling (4 chains in 4 jobs)\n",
      "NUTS: [vec_V]\n",
      "Sampling 4 chains, 0 divergences: 100%|██████████| 4000/4000 [00:02<00:00, 1997.61draws/s]\n",
      "Auto-assigning NUTS sampler...\n",
      "Initializing NUTS using jitter+adapt_diag...\n",
      "Multiprocess sampling (4 chains in 4 jobs)\n",
      "NUTS: [vec_V]\n",
      "Sampling 4 chains, 0 divergences: 100%|██████████| 4000/4000 [00:01<00:00, 2238.35draws/s]\n"
     ]
    },
    {
     "name": "stdout",
     "output_type": "stream",
     "text": [
      "3\n"
     ]
    },
    {
     "name": "stderr",
     "output_type": "stream",
     "text": [
      "Auto-assigning NUTS sampler...\n",
      "Initializing NUTS using jitter+adapt_diag...\n",
      "Multiprocess sampling (4 chains in 4 jobs)\n",
      "NUTS: [vec_V]\n",
      "Sampling 4 chains, 0 divergences: 100%|██████████| 4000/4000 [00:02<00:00, 1950.42draws/s]\n",
      "Auto-assigning NUTS sampler...\n",
      "Initializing NUTS using jitter+adapt_diag...\n",
      "Multiprocess sampling (4 chains in 4 jobs)\n",
      "NUTS: [vec_V]\n",
      "Sampling 4 chains, 0 divergences: 100%|██████████| 4000/4000 [00:01<00:00, 2158.34draws/s]\n",
      "Auto-assigning NUTS sampler...\n",
      "Initializing NUTS using jitter+adapt_diag...\n",
      "Multiprocess sampling (4 chains in 4 jobs)\n",
      "NUTS: [vec_V]\n",
      "Sampling 4 chains, 0 divergences: 100%|██████████| 4000/4000 [00:01<00:00, 2027.00draws/s]\n",
      "Auto-assigning NUTS sampler...\n",
      "Initializing NUTS using jitter+adapt_diag...\n",
      "Multiprocess sampling (4 chains in 4 jobs)\n",
      "NUTS: [vec_V]\n",
      "Sampling 4 chains, 0 divergences: 100%|██████████| 4000/4000 [00:01<00:00, 2103.10draws/s]\n",
      "Auto-assigning NUTS sampler...\n",
      "Initializing NUTS using jitter+adapt_diag...\n",
      "Multiprocess sampling (4 chains in 4 jobs)\n",
      "NUTS: [vec_V]\n",
      "Sampling 4 chains, 0 divergences: 100%|██████████| 4000/4000 [00:01<00:00, 2251.77draws/s]\n",
      "Auto-assigning NUTS sampler...\n",
      "Initializing NUTS using jitter+adapt_diag...\n",
      "Multiprocess sampling (4 chains in 4 jobs)\n",
      "NUTS: [vec_V]\n",
      "Sampling 4 chains, 0 divergences: 100%|██████████| 4000/4000 [00:01<00:00, 2059.37draws/s]\n",
      "Auto-assigning NUTS sampler...\n",
      "Initializing NUTS using jitter+adapt_diag...\n",
      "Multiprocess sampling (4 chains in 4 jobs)\n",
      "NUTS: [vec_V]\n",
      "Sampling 4 chains, 0 divergences: 100%|██████████| 4000/4000 [00:03<00:00, 1235.72draws/s]\n",
      "Auto-assigning NUTS sampler...\n",
      "Initializing NUTS using jitter+adapt_diag...\n",
      "Multiprocess sampling (4 chains in 4 jobs)\n",
      "NUTS: [vec_V]\n",
      "Sampling 4 chains, 0 divergences: 100%|██████████| 4000/4000 [00:03<00:00, 1144.52draws/s]\n",
      "Auto-assigning NUTS sampler...\n",
      "Initializing NUTS using jitter+adapt_diag...\n",
      "Multiprocess sampling (4 chains in 4 jobs)\n",
      "NUTS: [vec_V]\n",
      "Sampling 4 chains, 0 divergences: 100%|██████████| 4000/4000 [00:03<00:00, 1235.18draws/s]\n",
      "Auto-assigning NUTS sampler...\n",
      "Initializing NUTS using jitter+adapt_diag...\n",
      "Multiprocess sampling (4 chains in 4 jobs)\n",
      "NUTS: [vec_V]\n",
      "Sampling 4 chains, 0 divergences: 100%|██████████| 4000/4000 [00:03<00:00, 1314.67draws/s]\n"
     ]
    },
    {
     "name": "stdout",
     "output_type": "stream",
     "text": [
      "4\n"
     ]
    },
    {
     "name": "stderr",
     "output_type": "stream",
     "text": [
      "Auto-assigning NUTS sampler...\n",
      "Initializing NUTS using jitter+adapt_diag...\n",
      "Multiprocess sampling (4 chains in 4 jobs)\n",
      "NUTS: [vec_V]\n",
      "Sampling 4 chains, 0 divergences: 100%|██████████| 4000/4000 [00:02<00:00, 1503.56draws/s]\n",
      "Auto-assigning NUTS sampler...\n",
      "Initializing NUTS using jitter+adapt_diag...\n",
      "Multiprocess sampling (4 chains in 4 jobs)\n",
      "NUTS: [vec_V]\n",
      "Sampling 4 chains, 0 divergences: 100%|██████████| 4000/4000 [00:02<00:00, 1388.75draws/s]\n",
      "Auto-assigning NUTS sampler...\n",
      "Initializing NUTS using jitter+adapt_diag...\n",
      "Multiprocess sampling (4 chains in 4 jobs)\n",
      "NUTS: [vec_V]\n",
      "Sampling 4 chains, 0 divergences: 100%|██████████| 4000/4000 [00:02<00:00, 1710.78draws/s]\n",
      "Auto-assigning NUTS sampler...\n",
      "Initializing NUTS using jitter+adapt_diag...\n",
      "Multiprocess sampling (4 chains in 4 jobs)\n",
      "NUTS: [vec_V]\n",
      "Sampling 4 chains, 0 divergences: 100%|██████████| 4000/4000 [00:02<00:00, 1570.24draws/s]\n",
      "Auto-assigning NUTS sampler...\n",
      "Initializing NUTS using jitter+adapt_diag...\n",
      "Multiprocess sampling (4 chains in 4 jobs)\n",
      "NUTS: [vec_V]\n",
      "Sampling 4 chains, 0 divergences: 100%|██████████| 4000/4000 [00:03<00:00, 1292.22draws/s]\n",
      "Auto-assigning NUTS sampler...\n",
      "Initializing NUTS using jitter+adapt_diag...\n",
      "Multiprocess sampling (4 chains in 4 jobs)\n",
      "NUTS: [vec_V]\n",
      "Sampling 4 chains, 0 divergences: 100%|██████████| 4000/4000 [00:02<00:00, 1350.25draws/s]\n",
      "Auto-assigning NUTS sampler...\n",
      "Initializing NUTS using jitter+adapt_diag...\n",
      "Multiprocess sampling (4 chains in 4 jobs)\n",
      "NUTS: [vec_V]\n",
      "Sampling 4 chains, 0 divergences: 100%|██████████| 4000/4000 [00:02<00:00, 1806.10draws/s]\n",
      "Auto-assigning NUTS sampler...\n",
      "Initializing NUTS using jitter+adapt_diag...\n",
      "Multiprocess sampling (4 chains in 4 jobs)\n",
      "NUTS: [vec_V]\n",
      "Sampling 4 chains, 0 divergences: 100%|██████████| 4000/4000 [00:02<00:00, 1946.36draws/s]\n",
      "Auto-assigning NUTS sampler...\n",
      "Initializing NUTS using jitter+adapt_diag...\n",
      "Multiprocess sampling (4 chains in 4 jobs)\n",
      "NUTS: [vec_V]\n",
      "Sampling 4 chains, 0 divergences: 100%|██████████| 4000/4000 [00:02<00:00, 1728.61draws/s]\n",
      "Auto-assigning NUTS sampler...\n",
      "Initializing NUTS using jitter+adapt_diag...\n",
      "Multiprocess sampling (4 chains in 4 jobs)\n",
      "NUTS: [vec_V]\n",
      "Sampling 4 chains, 0 divergences: 100%|██████████| 4000/4000 [00:02<00:00, 1632.45draws/s]\n"
     ]
    },
    {
     "name": "stdout",
     "output_type": "stream",
     "text": [
      "5\n"
     ]
    },
    {
     "name": "stderr",
     "output_type": "stream",
     "text": [
      "Auto-assigning NUTS sampler...\n",
      "Initializing NUTS using jitter+adapt_diag...\n",
      "Multiprocess sampling (4 chains in 4 jobs)\n",
      "NUTS: [vec_V]\n",
      "Sampling 4 chains, 0 divergences: 100%|██████████| 4000/4000 [00:02<00:00, 1643.26draws/s]\n",
      "Auto-assigning NUTS sampler...\n",
      "Initializing NUTS using jitter+adapt_diag...\n",
      "Multiprocess sampling (4 chains in 4 jobs)\n",
      "NUTS: [vec_V]\n",
      "Sampling 4 chains, 0 divergences: 100%|██████████| 4000/4000 [00:02<00:00, 1571.01draws/s]\n",
      "Auto-assigning NUTS sampler...\n",
      "Initializing NUTS using jitter+adapt_diag...\n",
      "Multiprocess sampling (4 chains in 4 jobs)\n",
      "NUTS: [vec_V]\n",
      "Sampling 4 chains, 0 divergences: 100%|██████████| 4000/4000 [00:02<00:00, 1759.45draws/s]\n",
      "Auto-assigning NUTS sampler...\n",
      "Initializing NUTS using jitter+adapt_diag...\n",
      "Multiprocess sampling (4 chains in 4 jobs)\n",
      "NUTS: [vec_V]\n",
      "Sampling 4 chains, 0 divergences: 100%|██████████| 4000/4000 [00:02<00:00, 1923.65draws/s]\n",
      "Auto-assigning NUTS sampler...\n",
      "Initializing NUTS using jitter+adapt_diag...\n",
      "Multiprocess sampling (4 chains in 4 jobs)\n",
      "NUTS: [vec_V]\n",
      "Sampling 4 chains, 0 divergences: 100%|██████████| 4000/4000 [00:02<00:00, 1797.19draws/s]\n",
      "Auto-assigning NUTS sampler...\n",
      "Initializing NUTS using jitter+adapt_diag...\n",
      "Multiprocess sampling (4 chains in 4 jobs)\n",
      "NUTS: [vec_V]\n",
      "Sampling 4 chains, 0 divergences: 100%|██████████| 4000/4000 [00:02<00:00, 1436.74draws/s]\n",
      "Auto-assigning NUTS sampler...\n",
      "Initializing NUTS using jitter+adapt_diag...\n",
      "Multiprocess sampling (4 chains in 4 jobs)\n",
      "NUTS: [vec_V]\n",
      "Sampling 4 chains, 0 divergences: 100%|██████████| 4000/4000 [00:02<00:00, 1842.47draws/s]\n",
      "Auto-assigning NUTS sampler...\n",
      "Initializing NUTS using jitter+adapt_diag...\n",
      "Multiprocess sampling (4 chains in 4 jobs)\n",
      "NUTS: [vec_V]\n",
      "Sampling 4 chains, 0 divergences: 100%|██████████| 4000/4000 [00:05<00:00, 689.02draws/s] \n",
      "Auto-assigning NUTS sampler...\n",
      "Initializing NUTS using jitter+adapt_diag...\n",
      "Multiprocess sampling (4 chains in 4 jobs)\n",
      "NUTS: [vec_V]\n",
      "Sampling 4 chains, 0 divergences: 100%|██████████| 4000/4000 [00:09<00:00, 433.19draws/s]\n",
      "Auto-assigning NUTS sampler...\n",
      "Initializing NUTS using jitter+adapt_diag...\n",
      "Multiprocess sampling (4 chains in 4 jobs)\n",
      "NUTS: [vec_V]\n",
      "Sampling 4 chains, 0 divergences: 100%|██████████| 4000/4000 [00:06<00:00, 579.80draws/s]\n"
     ]
    },
    {
     "name": "stdout",
     "output_type": "stream",
     "text": [
      "6\n"
     ]
    },
    {
     "name": "stderr",
     "output_type": "stream",
     "text": [
      "Auto-assigning NUTS sampler...\n",
      "Initializing NUTS using jitter+adapt_diag...\n",
      "Multiprocess sampling (4 chains in 4 jobs)\n",
      "NUTS: [vec_V]\n",
      "Sampling 4 chains, 0 divergences: 100%|██████████| 4000/4000 [00:06<00:00, 595.72draws/s]\n",
      "Auto-assigning NUTS sampler...\n",
      "Initializing NUTS using jitter+adapt_diag...\n",
      "Multiprocess sampling (4 chains in 4 jobs)\n",
      "NUTS: [vec_V]\n",
      "Sampling 4 chains, 0 divergences: 100%|██████████| 4000/4000 [00:20<00:00, 193.62draws/s]\n",
      "Auto-assigning NUTS sampler...\n",
      "Initializing NUTS using jitter+adapt_diag...\n",
      "Multiprocess sampling (4 chains in 4 jobs)\n",
      "NUTS: [vec_V]\n",
      "Sampling 4 chains, 0 divergences: 100%|██████████| 4000/4000 [00:27<00:00, 144.83draws/s]\n",
      "Auto-assigning NUTS sampler...\n",
      "Initializing NUTS using jitter+adapt_diag...\n",
      "Multiprocess sampling (4 chains in 4 jobs)\n",
      "NUTS: [vec_V]\n",
      "Sampling 4 chains, 0 divergences: 100%|██████████| 4000/4000 [00:07<00:00, 554.04draws/s]\n",
      "Auto-assigning NUTS sampler...\n",
      "Initializing NUTS using jitter+adapt_diag...\n",
      "Multiprocess sampling (4 chains in 4 jobs)\n",
      "NUTS: [vec_V]\n",
      "Sampling 4 chains, 0 divergences: 100%|██████████| 4000/4000 [00:07<00:00, 554.12draws/s]\n",
      "Auto-assigning NUTS sampler...\n",
      "Initializing NUTS using jitter+adapt_diag...\n",
      "Multiprocess sampling (4 chains in 4 jobs)\n",
      "NUTS: [vec_V]\n",
      "Sampling 4 chains, 0 divergences: 100%|██████████| 4000/4000 [00:04<00:00, 954.04draws/s] \n",
      "Auto-assigning NUTS sampler...\n",
      "Initializing NUTS using jitter+adapt_diag...\n",
      "Multiprocess sampling (4 chains in 4 jobs)\n",
      "NUTS: [vec_V]\n",
      "Sampling 4 chains, 0 divergences: 100%|██████████| 4000/4000 [00:03<00:00, 1127.93draws/s]\n",
      "Auto-assigning NUTS sampler...\n",
      "Initializing NUTS using jitter+adapt_diag...\n",
      "Multiprocess sampling (4 chains in 4 jobs)\n",
      "NUTS: [vec_V]\n",
      "Sampling 4 chains, 0 divergences: 100%|██████████| 4000/4000 [00:03<00:00, 1063.57draws/s]\n",
      "Auto-assigning NUTS sampler...\n",
      "Initializing NUTS using jitter+adapt_diag...\n",
      "Multiprocess sampling (4 chains in 4 jobs)\n",
      "NUTS: [vec_V]\n",
      "Sampling 4 chains, 0 divergences: 100%|██████████| 4000/4000 [00:03<00:00, 1226.23draws/s]\n",
      "Auto-assigning NUTS sampler...\n",
      "Initializing NUTS using jitter+adapt_diag...\n",
      "Multiprocess sampling (4 chains in 4 jobs)\n",
      "NUTS: [vec_V]\n",
      "Sampling 4 chains, 0 divergences: 100%|██████████| 4000/4000 [00:02<00:00, 1445.51draws/s]\n"
     ]
    }
   ],
   "source": [
    "\n",
    "n = 20\n",
    "tries = 10\n",
    "param = 6\n",
    "r = np.zeros(shape=(param - 1, 4))\n",
    "\n",
    "train = []\n",
    "test = []\n",
    "\n",
    "for j in range(2, param + 1):\n",
    "    print(j)\n",
    "    for i in range(1, tries + 1):\n",
    "        tr, te = sim_train_test(N=n, k=param)\n",
    "        train.append(tr), test.append(te)\n",
    "    r[j -2, :] = np.mean(train), np.std(train, ddof=1), np.mean(test), np.std(test, ddof=1)"
   ]
  },
  {
   "cell_type": "code",
   "execution_count": 115,
   "metadata": {},
   "outputs": [
    {
     "data": {
      "image/png": "[encoded data removed]",
      "text/plain": [
       "<Figure size 1000x600 with 1 Axes>"
      ]
     },
     "metadata": {},
     "output_type": "display_data"
    }
   ],
   "source": [
    "num_param = np.arange(2, param + 1)\n",
    "\n",
    "plt.figure(figsize=(10, 6))\n",
    "plt.scatter(num_param, r[:, 0], color='C0')\n",
    "plt.xticks(num_param)\n",
    "\n",
    "for j in range(param - 1):\n",
    "    plt.vlines(num_param[j], r[j,0] - r[j, 1], r[j,0] + r[j,1], color='mediumblue', \n",
    "               zorder=-1, alpha=0.80)\n",
    "\n",
    "plt.scatter(num_param + 0.1, r[:, 2], facecolors='none', edgecolors='k')\n",
    "\n",
    "for j in range(param - 1):\n",
    "    plt.vlines(num_param[j] + 0.1, r[j,2] - r[j, 3], r[j,2] + r[j,3], color='k', \n",
    "               zorder=-2, alpha=0.70)    \n",
    "\n",
    "dist = 0.20\n",
    "plt.text(num_param[1] - dist, r[1, 0] - dist, 'in', color='C0', fontsize=13)\n",
    "plt.text(num_param[1] + dist, r[1, 2] - dist, 'out', color='k', fontsize=13)\n",
    "plt.text(num_param[1] + dist, r[1, 2] + r[1,3] - dist, '+1 SD', color='k', fontsize=10)\n",
    "plt.text(num_param[1] + dist, r[1, 2] - r[1,3] - dist, '+1 SD', color='k', fontsize=10)\n",
    "plt.xlabel('Number of parameters', fontsize=14)\n",
    "plt.ylabel('Deviance', fontsize=14)\n",
    "plt.title('N = {}'.format(n), fontsize=14)\n",
    "plt.show()"
   ]
  },
  {
   "cell_type": "code",
   "execution_count": 453,
   "metadata": {},
   "outputs": [],
   "source": [
    "def overfitting_test(N=20,K=2,rho=[0.15, 0.4]):\n",
    "    n_dim = k \n",
    "    # if n_dim < k:\n",
    "    #     n_dim = k\n",
    "    Rho = np.diag(np.ones(n_dim)+1)\n",
    "    # Rho[0, 1:3:1] = rho\n",
    "    # i_lower = np.tril_indices(n_dim, -1)\n",
    "    # Rho[i_lower] = Rho.T[i_lower]\n",
    "\n",
    "    x_train = sc.stats.multivariate_normal.rvs(mean=np.ones(n_dim),cov=Rho, size=N)\n",
    "    x_test = sc.stats.multivariate_normal.rvs(mean=np.ones(n_dim),cov=Rho, size=N)\n",
    "    y_train  = intercept +  np.reshape(np.matmul(x_train[:,:2],rho).T,(N,1))\n",
    "    y_test  = intercept + np.reshape(np.matmul(x_test[:,:2],rho).T,(N,1))\n",
    "    x_train = np.concatenate([y_train, x_train],axis=1)\n",
    "    x_test = np.concatenate([y_test, x_test],axis=1)\n",
    "\n",
    "    with pm.Model() as m_sim:\n",
    "        alpha = pm.Normal('alpha',mu=1,sigma=1)\n",
    "        vec_V = pm.Normal('vec_V', mu=0,  sigma = 1,\n",
    "                            shape=n_dim)\n",
    "        mu = pm.Deterministic('mu', alpha + pm.math.dot(x_train[:,1:], vec_V.T))\n",
    "        y = pm.Normal('y', mu=mu, sd=1, observed=x_train[:, 0])\n",
    "\n",
    "    with m_sim:\n",
    "        trace_m_sim = pm.sample()\n",
    "\n",
    "    post_vec = az.summary(trace_m_sim,var_names='vec_V')['mean']\n",
    "    post_vec = np.array([i for i in post_vec]).reshape(n_dim, -1)\n",
    "    post_alpha = az.summary(trace_m_sim,var_names='alpha')['mean']\n",
    "    post_y_train = post_alpha.values +  np.matmul(x_train[:,1:],post_vec)\n",
    "\n",
    "    log_probs_train = sc.stats.norm.logpdf(x_train[:,0],loc=post_y_train,scale=1)[:,0]\n",
    "    deviance_train = -2*sum(log_probs_train)\n",
    "\n",
    "    post_y_test = post_alpha.values +  np.matmul(x_test[:,1:],post_vec)\n",
    "    log_probs_test = sc.stats.norm.logpdf(x_test[:,0],loc=post_y_test,scale=1)[:,0]\n",
    "    deviance_test = -2*sum(log_probs_test)\n",
    "\n",
    "    return deviance_train, deviance_test\n"
   ]
  },
  {
   "cell_type": "code",
   "execution_count": 465,
   "metadata": {
    "scrolled": true
   },
   "outputs": [
    {
     "name": "stderr",
     "output_type": "stream",
     "text": [
      "Auto-assigning NUTS sampler...\n",
      "Initializing NUTS using jitter+adapt_diag...\n",
      "Multiprocess sampling (4 chains in 4 jobs)\n",
      "NUTS: [vec_V, alpha]\n",
      "Sampling 4 chains, 0 divergences: 100%|██████████| 4000/4000 [00:02<00:00, 1621.25draws/s]\n",
      "Auto-assigning NUTS sampler...\n",
      "Initializing NUTS using jitter+adapt_diag...\n",
      "Multiprocess sampling (4 chains in 4 jobs)\n",
      "NUTS: [vec_V, alpha]\n",
      "Sampling 4 chains, 0 divergences: 100%|██████████| 4000/4000 [00:02<00:00, 1612.31draws/s]\n",
      "Auto-assigning NUTS sampler...\n",
      "Initializing NUTS using jitter+adapt_diag...\n",
      "Multiprocess sampling (4 chains in 4 jobs)\n",
      "NUTS: [vec_V, alpha]\n",
      "Sampling 4 chains, 0 divergences: 100%|██████████| 4000/4000 [00:02<00:00, 1389.42draws/s]\n",
      "Auto-assigning NUTS sampler...\n",
      "Initializing NUTS using jitter+adapt_diag...\n",
      "Multiprocess sampling (4 chains in 4 jobs)\n",
      "NUTS: [vec_V, alpha]\n",
      "Sampling 4 chains, 0 divergences: 100%|██████████| 4000/4000 [00:03<00:00, 1325.22draws/s]\n"
     ]
    }
   ],
   "source": [
    "N=20\n",
    "train = []\n",
    "test = []\n",
    "for i in range(3,7):\n",
    "    tup = overfitting_test(N=N,K=i)\n",
    "    train.append(tup[0])\n",
    "    test.append(tup[1])"
   ]
  },
  {
   "cell_type": "code",
   "execution_count": 466,
   "metadata": {},
   "outputs": [
    {
     "data": {
      "text/plain": [
       "[44.312328825706786, 44.107224392679896, 41.88693534154985, 52.10721306859281]"
      ]
     },
     "execution_count": 466,
     "metadata": {},
     "output_type": "execute_result"
    }
   ],
   "source": [
    "train"
   ]
  },
  {
   "cell_type": "code",
   "execution_count": 467,
   "metadata": {},
   "outputs": [
    {
     "data": {
      "text/plain": [
       "[55.090552164591514, 47.062213024994065, 41.81312871515308, 44.90417080598393]"
      ]
     },
     "execution_count": 467,
     "metadata": {},
     "output_type": "execute_result"
    }
   ],
   "source": [
    "test"
   ]
  },
  {
   "cell_type": "markdown",
   "metadata": {},
   "source": [
    "### Regularization"
   ]
  },
  {
   "cell_type": "code",
   "execution_count": 542,
   "metadata": {},
   "outputs": [],
   "source": [
    "predictors = sc.stats.multivariate_normal.rvs(mean=[0.4,0.6],cov=1,size=2000)\n",
    "beta = [0.45,0.5]\n",
    "alpha = 0.4\n",
    "data = alpha + np.matmul(predictors,beta)"
   ]
  },
  {
   "cell_type": "code",
   "execution_count": 553,
   "metadata": {},
   "outputs": [
    {
     "name": "stderr",
     "output_type": "stream",
     "text": [
      "Auto-assigning NUTS sampler...\n",
      "Initializing NUTS using jitter+adapt_diag...\n",
      "INFO (theano.gof.compilelock): Refreshing lock /Users/divay/.theano/compiledir_Darwin-18.7.0-x86_64-i386-64bit-i386-3.7.4-64/lock_dir/lock\n",
      "Multiprocess sampling (4 chains in 4 jobs)\n",
      "NUTS: [beta, alpha]\n",
      "Sampling 4 chains, 0 divergences: 100%|██████████| 8000/8000 [00:02<00:00, 2928.74draws/s]\n"
     ]
    }
   ],
   "source": [
    "with pm.Model() as model:\n",
    "    alpha = pm.Normal('alpha',1,100)\n",
    "    beta = pm.Normal('beta',mu=[0.5],sd=1,shape=2)\n",
    "    mu = pm.Deterministic('mu',alpha+pm.math.dot(predictors,beta))\n",
    "    y = pm.Normal('y',mu=mu,sd=1,observed=data)\n",
    "    trace  = pm.sample(1000,tune=1000)"
   ]
  },
  {
   "cell_type": "code",
   "execution_count": null,
   "metadata": {},
   "outputs": [],
   "source": []
  }
 ],
 "metadata": {
  "kernelspec": {
   "display_name": "Python 3",
   "language": "python",
   "name": "python3"
  },
  "language_info": {
   "codemirror_mode": {
    "name": "ipython",
    "version": 3
   },
   "file_extension": ".py",
   "mimetype": "text/x-python",
   "name": "python",
   "nbconvert_exporter": "python",
   "pygments_lexer": "ipython3",
   "version": "3.7.4"
  }
 },
 "nbformat": 4,
 "nbformat_minor": 4
}
